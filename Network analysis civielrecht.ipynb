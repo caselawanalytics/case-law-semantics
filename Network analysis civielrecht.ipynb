{
 "cells": [
  {
   "cell_type": "code",
   "execution_count": 68,
   "metadata": {
    "collapsed": false
   },
   "outputs": [],
   "source": [
    "%matplotlib inline \n",
    "import json\n",
    "import pandas as pd\n",
    "import networkx as nx\n",
    "import caselawnet"
   ]
  },
  {
   "cell_type": "code",
   "execution_count": 3,
   "metadata": {
    "collapsed": false
   },
   "outputs": [],
   "source": [
    "data_path = '/media/sf_VBox_Shared/CaseLaw/graphs/lido/civielrecht_hr.json'\n",
    "with open(data_path) as f:\n",
    "    network = json.load(f)"
   ]
  },
  {
   "cell_type": "code",
   "execution_count": 7,
   "metadata": {
    "collapsed": false
   },
   "outputs": [
    {
     "data": {
      "text/html": [
       "<div>\n",
       "<style>\n",
       "    .dataframe thead tr:only-child th {\n",
       "        text-align: right;\n",
       "    }\n",
       "\n",
       "    .dataframe thead th {\n",
       "        text-align: left;\n",
       "    }\n",
       "\n",
       "    .dataframe tbody tr th {\n",
       "        vertical-align: top;\n",
       "    }\n",
       "</style>\n",
       "<table border=\"1\" class=\"dataframe\">\n",
       "  <thead>\n",
       "    <tr style=\"text-align: right;\">\n",
       "      <th></th>\n",
       "      <th>abstract</th>\n",
       "      <th>articles</th>\n",
       "      <th>authorities</th>\n",
       "      <th>betweenness_centrality</th>\n",
       "      <th>closeness_centrality</th>\n",
       "      <th>community</th>\n",
       "      <th>count_annotation</th>\n",
       "      <th>count_version</th>\n",
       "      <th>creator</th>\n",
       "      <th>date</th>\n",
       "      <th>...</th>\n",
       "      <th>out_degree</th>\n",
       "      <th>out_degree_centrality</th>\n",
       "      <th>pagerank</th>\n",
       "      <th>procedure</th>\n",
       "      <th>rel_in_degree</th>\n",
       "      <th>subject</th>\n",
       "      <th>title</th>\n",
       "      <th>x</th>\n",
       "      <th>y</th>\n",
       "      <th>year</th>\n",
       "    </tr>\n",
       "  </thead>\n",
       "  <tbody>\n",
       "    <tr>\n",
       "      <th>0</th>\n",
       "      <td>Art. 81 lid 1 RO. Verbintenissenrecht. Overeen...</td>\n",
       "      <td>[81 ro]</td>\n",
       "      <td>0.0</td>\n",
       "      <td>0.0</td>\n",
       "      <td>0.0</td>\n",
       "      <td>999</td>\n",
       "      <td>0</td>\n",
       "      <td>3</td>\n",
       "      <td>HR</td>\n",
       "      <td>31-10-2014</td>\n",
       "      <td>...</td>\n",
       "      <td>0</td>\n",
       "      <td>0.0</td>\n",
       "      <td>0.000066</td>\n",
       "      <td>[Artikel 81 RO-zaken, Cassatie]</td>\n",
       "      <td>0.0</td>\n",
       "      <td>Civiel recht</td>\n",
       "      <td>Hoge Raad, 31-10-2014, 11/04717</td>\n",
       "      <td>0.314499</td>\n",
       "      <td>0.766658</td>\n",
       "      <td>2014</td>\n",
       "    </tr>\n",
       "    <tr>\n",
       "      <th>1</th>\n",
       "      <td>Art. 81 lid 1 RO. Opstalrecht. AV2000. Gebonde...</td>\n",
       "      <td>[81 ro, 3:14 bw]</td>\n",
       "      <td>0.0</td>\n",
       "      <td>0.0</td>\n",
       "      <td>0.0</td>\n",
       "      <td>1000</td>\n",
       "      <td>0</td>\n",
       "      <td>3</td>\n",
       "      <td>HR</td>\n",
       "      <td>31-10-2014</td>\n",
       "      <td>...</td>\n",
       "      <td>0</td>\n",
       "      <td>0.0</td>\n",
       "      <td>0.000066</td>\n",
       "      <td>[Artikel 81 RO-zaken, Cassatie]</td>\n",
       "      <td>0.0</td>\n",
       "      <td>Civiel recht</td>\n",
       "      <td>Hoge Raad, 31-10-2014, 13/00523</td>\n",
       "      <td>0.739216</td>\n",
       "      <td>0.758092</td>\n",
       "      <td>2014</td>\n",
       "    </tr>\n",
       "    <tr>\n",
       "      <th>2</th>\n",
       "      <td>Art. 81 lid 1 RO. Opstalrecht. AV70. Gebondenh...</td>\n",
       "      <td>[81 ro]</td>\n",
       "      <td>0.0</td>\n",
       "      <td>0.0</td>\n",
       "      <td>0.0</td>\n",
       "      <td>1001</td>\n",
       "      <td>0</td>\n",
       "      <td>3</td>\n",
       "      <td>HR</td>\n",
       "      <td>31-10-2014</td>\n",
       "      <td>...</td>\n",
       "      <td>0</td>\n",
       "      <td>0.0</td>\n",
       "      <td>0.000066</td>\n",
       "      <td>[Artikel 81 RO-zaken, Cassatie]</td>\n",
       "      <td>0.0</td>\n",
       "      <td>Civiel recht</td>\n",
       "      <td>Hoge Raad, 31-10-2014, 13/00525</td>\n",
       "      <td>0.067934</td>\n",
       "      <td>0.743661</td>\n",
       "      <td>2014</td>\n",
       "    </tr>\n",
       "    <tr>\n",
       "      <th>3</th>\n",
       "      <td>IPR. Internationale bevoegdheid Nederlandse re...</td>\n",
       "      <td>[]</td>\n",
       "      <td>0.0</td>\n",
       "      <td>0.0</td>\n",
       "      <td>0.0</td>\n",
       "      <td>1002</td>\n",
       "      <td>0</td>\n",
       "      <td>6</td>\n",
       "      <td>HR</td>\n",
       "      <td>31-10-2014</td>\n",
       "      <td>...</td>\n",
       "      <td>0</td>\n",
       "      <td>0.0</td>\n",
       "      <td>0.000066</td>\n",
       "      <td>[Cassatie]</td>\n",
       "      <td>0.0</td>\n",
       "      <td>Civiel recht</td>\n",
       "      <td>Hoge Raad, 31-10-2014, 14/00819</td>\n",
       "      <td>0.978493</td>\n",
       "      <td>0.744506</td>\n",
       "      <td>2014</td>\n",
       "    </tr>\n",
       "    <tr>\n",
       "      <th>4</th>\n",
       "      <td>Opstalrecht. AV70, AV2000. Gebondenheid opstal...</td>\n",
       "      <td>[]</td>\n",
       "      <td>0.0</td>\n",
       "      <td>0.0</td>\n",
       "      <td>0.0</td>\n",
       "      <td>1003</td>\n",
       "      <td>1</td>\n",
       "      <td>7</td>\n",
       "      <td>HR</td>\n",
       "      <td>31-10-2014</td>\n",
       "      <td>...</td>\n",
       "      <td>0</td>\n",
       "      <td>0.0</td>\n",
       "      <td>0.000066</td>\n",
       "      <td>[Cassatie]</td>\n",
       "      <td>0.0</td>\n",
       "      <td>Civiel recht</td>\n",
       "      <td>Hoge Raad, 31-10-2014, 13/00529</td>\n",
       "      <td>0.564381</td>\n",
       "      <td>0.262196</td>\n",
       "      <td>2014</td>\n",
       "    </tr>\n",
       "  </tbody>\n",
       "</table>\n",
       "<p>5 rows × 27 columns</p>\n",
       "</div>"
      ],
      "text/plain": [
       "                                            abstract          articles  \\\n",
       "0  Art. 81 lid 1 RO. Verbintenissenrecht. Overeen...           [81 ro]   \n",
       "1  Art. 81 lid 1 RO. Opstalrecht. AV2000. Gebonde...  [81 ro, 3:14 bw]   \n",
       "2  Art. 81 lid 1 RO. Opstalrecht. AV70. Gebondenh...           [81 ro]   \n",
       "3  IPR. Internationale bevoegdheid Nederlandse re...                []   \n",
       "4  Opstalrecht. AV70, AV2000. Gebondenheid opstal...                []   \n",
       "\n",
       "   authorities  betweenness_centrality  closeness_centrality community  \\\n",
       "0          0.0                     0.0                   0.0       999   \n",
       "1          0.0                     0.0                   0.0      1000   \n",
       "2          0.0                     0.0                   0.0      1001   \n",
       "3          0.0                     0.0                   0.0      1002   \n",
       "4          0.0                     0.0                   0.0      1003   \n",
       "\n",
       "   count_annotation  count_version creator        date  ...   out_degree  \\\n",
       "0                 0              3      HR  31-10-2014  ...            0   \n",
       "1                 0              3      HR  31-10-2014  ...            0   \n",
       "2                 0              3      HR  31-10-2014  ...            0   \n",
       "3                 0              6      HR  31-10-2014  ...            0   \n",
       "4                 1              7      HR  31-10-2014  ...            0   \n",
       "\n",
       "   out_degree_centrality  pagerank                        procedure  \\\n",
       "0                    0.0  0.000066  [Artikel 81 RO-zaken, Cassatie]   \n",
       "1                    0.0  0.000066  [Artikel 81 RO-zaken, Cassatie]   \n",
       "2                    0.0  0.000066  [Artikel 81 RO-zaken, Cassatie]   \n",
       "3                    0.0  0.000066                       [Cassatie]   \n",
       "4                    0.0  0.000066                       [Cassatie]   \n",
       "\n",
       "  rel_in_degree       subject                            title         x  \\\n",
       "0           0.0  Civiel recht  Hoge Raad, 31-10-2014, 11/04717  0.314499   \n",
       "1           0.0  Civiel recht  Hoge Raad, 31-10-2014, 13/00523  0.739216   \n",
       "2           0.0  Civiel recht  Hoge Raad, 31-10-2014, 13/00525  0.067934   \n",
       "3           0.0  Civiel recht  Hoge Raad, 31-10-2014, 14/00819  0.978493   \n",
       "4           0.0  Civiel recht  Hoge Raad, 31-10-2014, 13/00529  0.564381   \n",
       "\n",
       "          y  year  \n",
       "0  0.766658  2014  \n",
       "1  0.758092  2014  \n",
       "2  0.743661  2014  \n",
       "3  0.744506  2014  \n",
       "4  0.262196  2014  \n",
       "\n",
       "[5 rows x 27 columns]"
      ]
     },
     "execution_count": 7,
     "metadata": {},
     "output_type": "execute_result"
    }
   ],
   "source": [
    "nodes = pd.DataFrame(network['nodes'])\n",
    "nodes.head()"
   ]
  },
  {
   "cell_type": "code",
   "execution_count": 24,
   "metadata": {
    "collapsed": true
   },
   "outputs": [],
   "source": [
    "# filter nodes on degree larger than zero\n",
    "nodes = nodes[nodes['degree']>0]"
   ]
  },
  {
   "cell_type": "code",
   "execution_count": 34,
   "metadata": {
    "collapsed": false
   },
   "outputs": [
    {
     "name": "stdout",
     "output_type": "stream",
     "text": [
      "(3830, 27)\n"
     ]
    },
    {
     "data": {
      "text/html": [
       "<div>\n",
       "<style>\n",
       "    .dataframe thead tr:only-child th {\n",
       "        text-align: right;\n",
       "    }\n",
       "\n",
       "    .dataframe thead th {\n",
       "        text-align: left;\n",
       "    }\n",
       "\n",
       "    .dataframe tbody tr th {\n",
       "        vertical-align: top;\n",
       "    }\n",
       "</style>\n",
       "<table border=\"1\" class=\"dataframe\">\n",
       "  <thead>\n",
       "    <tr style=\"text-align: right;\">\n",
       "      <th></th>\n",
       "      <th>abstract</th>\n",
       "      <th>articles</th>\n",
       "      <th>authorities</th>\n",
       "      <th>betweenness_centrality</th>\n",
       "      <th>closeness_centrality</th>\n",
       "      <th>community</th>\n",
       "      <th>count_annotation</th>\n",
       "      <th>count_version</th>\n",
       "      <th>creator</th>\n",
       "      <th>date</th>\n",
       "      <th>...</th>\n",
       "      <th>out_degree</th>\n",
       "      <th>out_degree_centrality</th>\n",
       "      <th>pagerank</th>\n",
       "      <th>procedure</th>\n",
       "      <th>rel_in_degree</th>\n",
       "      <th>subject</th>\n",
       "      <th>title</th>\n",
       "      <th>x</th>\n",
       "      <th>y</th>\n",
       "      <th>year</th>\n",
       "    </tr>\n",
       "  </thead>\n",
       "  <tbody>\n",
       "    <tr>\n",
       "      <th>5</th>\n",
       "      <td>Contractenrecht; opschortingsrecht. Uitleg van...</td>\n",
       "      <td>[]</td>\n",
       "      <td>0.000000e+00</td>\n",
       "      <td>0.0</td>\n",
       "      <td>0.000082</td>\n",
       "      <td>380</td>\n",
       "      <td>2</td>\n",
       "      <td>12</td>\n",
       "      <td>HR</td>\n",
       "      <td>31-10-2014</td>\n",
       "      <td>...</td>\n",
       "      <td>1</td>\n",
       "      <td>0.000082</td>\n",
       "      <td>0.000066</td>\n",
       "      <td>[Cassatie]</td>\n",
       "      <td>0.000000</td>\n",
       "      <td>Civiel recht</td>\n",
       "      <td>Hoge Raad, 31-10-2014, 13/03115</td>\n",
       "      <td>0.010217</td>\n",
       "      <td>0.757124</td>\n",
       "      <td>2014</td>\n",
       "    </tr>\n",
       "    <tr>\n",
       "      <th>6</th>\n",
       "      <td>Onrechtmatige overheidsdaad. Vervolg op HR 20 ...</td>\n",
       "      <td>[]</td>\n",
       "      <td>0.000000e+00</td>\n",
       "      <td>0.0</td>\n",
       "      <td>0.000082</td>\n",
       "      <td>1004</td>\n",
       "      <td>1</td>\n",
       "      <td>9</td>\n",
       "      <td>HR</td>\n",
       "      <td>31-10-2014</td>\n",
       "      <td>...</td>\n",
       "      <td>1</td>\n",
       "      <td>0.000082</td>\n",
       "      <td>0.000066</td>\n",
       "      <td>[Cassatie]</td>\n",
       "      <td>0.000000</td>\n",
       "      <td>Civiel recht</td>\n",
       "      <td>Hoge Raad, 31-10-2014, 13/03269</td>\n",
       "      <td>0.126978</td>\n",
       "      <td>0.945714</td>\n",
       "      <td>2014</td>\n",
       "    </tr>\n",
       "    <tr>\n",
       "      <th>8</th>\n",
       "      <td>Bewijsrecht. Voldoende geconcretiseerd en gesp...</td>\n",
       "      <td>[]</td>\n",
       "      <td>0.000000e+00</td>\n",
       "      <td>0.0</td>\n",
       "      <td>0.000163</td>\n",
       "      <td>192</td>\n",
       "      <td>1</td>\n",
       "      <td>7</td>\n",
       "      <td>HR</td>\n",
       "      <td>31-10-2014</td>\n",
       "      <td>...</td>\n",
       "      <td>2</td>\n",
       "      <td>0.000163</td>\n",
       "      <td>0.000066</td>\n",
       "      <td>[Cassatie]</td>\n",
       "      <td>0.000000</td>\n",
       "      <td>Civiel recht</td>\n",
       "      <td>Hoge Raad, 31-10-2014, 13/03880</td>\n",
       "      <td>0.324555</td>\n",
       "      <td>0.001694</td>\n",
       "      <td>2014</td>\n",
       "    </tr>\n",
       "    <tr>\n",
       "      <th>9</th>\n",
       "      <td>Stakingsrecht. Art. 6, aanhef en onder 4, ESH....</td>\n",
       "      <td>[]</td>\n",
       "      <td>3.508703e-244</td>\n",
       "      <td>0.0</td>\n",
       "      <td>0.000000</td>\n",
       "      <td>836</td>\n",
       "      <td>2</td>\n",
       "      <td>13</td>\n",
       "      <td>HR</td>\n",
       "      <td>31-10-2014</td>\n",
       "      <td>...</td>\n",
       "      <td>0</td>\n",
       "      <td>0.000000</td>\n",
       "      <td>0.000080</td>\n",
       "      <td>[Cassatie]</td>\n",
       "      <td>0.111111</td>\n",
       "      <td>Civiel recht</td>\n",
       "      <td>Hoge Raad, 31-10-2014, 13/04468</td>\n",
       "      <td>0.853631</td>\n",
       "      <td>0.740192</td>\n",
       "      <td>2014</td>\n",
       "    </tr>\n",
       "    <tr>\n",
       "      <th>12</th>\n",
       "      <td>Faillissementsrecht. Onverschuldigde betaling ...</td>\n",
       "      <td>[]</td>\n",
       "      <td>0.000000e+00</td>\n",
       "      <td>0.0</td>\n",
       "      <td>0.000183</td>\n",
       "      <td>49</td>\n",
       "      <td>2</td>\n",
       "      <td>8</td>\n",
       "      <td>HR</td>\n",
       "      <td>31-10-2014</td>\n",
       "      <td>...</td>\n",
       "      <td>2</td>\n",
       "      <td>0.000163</td>\n",
       "      <td>0.000066</td>\n",
       "      <td>[Cassatie]</td>\n",
       "      <td>0.000000</td>\n",
       "      <td>Civiel recht; Insolventierecht</td>\n",
       "      <td>Hoge Raad, 31-10-2014, 13/01712</td>\n",
       "      <td>0.578717</td>\n",
       "      <td>0.234629</td>\n",
       "      <td>2014</td>\n",
       "    </tr>\n",
       "  </tbody>\n",
       "</table>\n",
       "<p>5 rows × 27 columns</p>\n",
       "</div>"
      ],
      "text/plain": [
       "                                             abstract articles    authorities  \\\n",
       "5   Contractenrecht; opschortingsrecht. Uitleg van...       []   0.000000e+00   \n",
       "6   Onrechtmatige overheidsdaad. Vervolg op HR 20 ...       []   0.000000e+00   \n",
       "8   Bewijsrecht. Voldoende geconcretiseerd en gesp...       []   0.000000e+00   \n",
       "9   Stakingsrecht. Art. 6, aanhef en onder 4, ESH....       []  3.508703e-244   \n",
       "12  Faillissementsrecht. Onverschuldigde betaling ...       []   0.000000e+00   \n",
       "\n",
       "    betweenness_centrality  closeness_centrality community  count_annotation  \\\n",
       "5                      0.0              0.000082       380                 2   \n",
       "6                      0.0              0.000082      1004                 1   \n",
       "8                      0.0              0.000163       192                 1   \n",
       "9                      0.0              0.000000       836                 2   \n",
       "12                     0.0              0.000183        49                 2   \n",
       "\n",
       "    count_version creator        date  ...   out_degree  \\\n",
       "5              12      HR  31-10-2014  ...            1   \n",
       "6               9      HR  31-10-2014  ...            1   \n",
       "8               7      HR  31-10-2014  ...            2   \n",
       "9              13      HR  31-10-2014  ...            0   \n",
       "12              8      HR  31-10-2014  ...            2   \n",
       "\n",
       "    out_degree_centrality  pagerank   procedure rel_in_degree  \\\n",
       "5                0.000082  0.000066  [Cassatie]      0.000000   \n",
       "6                0.000082  0.000066  [Cassatie]      0.000000   \n",
       "8                0.000163  0.000066  [Cassatie]      0.000000   \n",
       "9                0.000000  0.000080  [Cassatie]      0.111111   \n",
       "12               0.000163  0.000066  [Cassatie]      0.000000   \n",
       "\n",
       "                           subject                            title         x  \\\n",
       "5                     Civiel recht  Hoge Raad, 31-10-2014, 13/03115  0.010217   \n",
       "6                     Civiel recht  Hoge Raad, 31-10-2014, 13/03269  0.126978   \n",
       "8                     Civiel recht  Hoge Raad, 31-10-2014, 13/03880  0.324555   \n",
       "9                     Civiel recht  Hoge Raad, 31-10-2014, 13/04468  0.853631   \n",
       "12  Civiel recht; Insolventierecht  Hoge Raad, 31-10-2014, 13/01712  0.578717   \n",
       "\n",
       "           y  year  \n",
       "5   0.757124  2014  \n",
       "6   0.945714  2014  \n",
       "8   0.001694  2014  \n",
       "9   0.740192  2014  \n",
       "12  0.234629  2014  \n",
       "\n",
       "[5 rows x 27 columns]"
      ]
     },
     "execution_count": 34,
     "metadata": {},
     "output_type": "execute_result"
    }
   ],
   "source": [
    "print(nodes.shape)\n",
    "nodes.head()"
   ]
  },
  {
   "cell_type": "code",
   "execution_count": 51,
   "metadata": {
    "collapsed": false
   },
   "outputs": [],
   "source": [
    "network_filtered = caselawnet.get_network(nodes.to_dict('records'), network['edges'])"
   ]
  },
  {
   "cell_type": "code",
   "execution_count": 52,
   "metadata": {
    "collapsed": true
   },
   "outputs": [],
   "source": [
    "nodes_filtered, links_filtered = network_filtered"
   ]
  },
  {
   "cell_type": "code",
   "execution_count": 59,
   "metadata": {
    "collapsed": true
   },
   "outputs": [],
   "source": [
    "caselawnet.utils.to_sigma_json(nodes_filtered, links_filtered, 'Civielrecht HR', '/media/sf_VBox_Shared/CaseLaw/graphs/lido/civielrecht_hr_filtered.json')"
   ]
  },
  {
   "cell_type": "code",
   "execution_count": 54,
   "metadata": {
    "collapsed": true
   },
   "outputs": [],
   "source": [
    "nodes_df = pd.DataFrame(nodes_filtered)"
   ]
  },
  {
   "cell_type": "code",
   "execution_count": 57,
   "metadata": {
    "collapsed": false
   },
   "outputs": [
    {
     "data": {
      "text/plain": [
       "0      636\n",
       "1      626\n",
       "376     14\n",
       "233     13\n",
       "189     13\n",
       "320     13\n",
       "330     12\n",
       "333     12\n",
       "281     12\n",
       "186     12\n",
       "Name: abstract, dtype: int64"
      ]
     },
     "execution_count": 57,
     "metadata": {},
     "output_type": "execute_result"
    }
   ],
   "source": [
    "nodes_df['abstract'].str.len().value_counts()[:10]"
   ]
  },
  {
   "cell_type": "code",
   "execution_count": 62,
   "metadata": {
    "collapsed": false
   },
   "outputs": [
    {
     "data": {
      "text/plain": [
       "subject\n",
       "Civiel recht                                                                 3147\n",
       "Civiel recht; Personen- en familierecht                                       314\n",
       "Civiel recht; Insolventierecht                                                203\n",
       "Civiel recht,Bestuursrecht; Omgevingsrecht                                    100\n",
       "Civiel recht; Ondernemingsrecht                                                34\n",
       "Civiel recht,Bestuursrecht; Europees bestuursrecht                             16\n",
       "Civiel recht,Strafrecht                                                         7\n",
       "Bestuursrecht,Civiel recht                                                      3\n",
       "Civiel recht; Arbeidsrecht                                                      2\n",
       "Civiel recht,Bestuursrecht; Socialezekerheidsrecht                              2\n",
       "Civiel recht; Personen- en familierecht,Civiel recht; Verbintenissenrecht       1\n",
       "Civiel recht; Mededingingsrecht                                                 1\n",
       "Name: subject, dtype: int64"
      ]
     },
     "execution_count": 62,
     "metadata": {},
     "output_type": "execute_result"
    }
   ],
   "source": [
    "nodes_df.groupby('subject')['subject'].count().sort_values(ascending=False)"
   ]
  },
  {
   "cell_type": "code",
   "execution_count": 77,
   "metadata": {
    "collapsed": false
   },
   "outputs": [
    {
     "data": {
      "text/plain": [
       "<matplotlib.axes._subplots.AxesSubplot at 0x7f1673b317b8>"
      ]
     },
     "execution_count": 77,
     "metadata": {},
     "output_type": "execute_result"
    },
    {
     "data": {
      "image/png": "[encoded data removed]",
      "text/plain": [
       "<matplotlib.figure.Figure at 0x7f1673b0d9b0>"
      ]
     },
     "metadata": {},
     "output_type": "display_data"
    }
   ],
   "source": [
    "nodes_df['in_degree'].hist(bins=range(max(nodes_df['in_degree'])))"
   ]
  },
  {
   "cell_type": "code",
   "execution_count": 79,
   "metadata": {
    "collapsed": false
   },
   "outputs": [
    {
     "data": {
      "text/plain": [
       "<matplotlib.axes._subplots.AxesSubplot at 0x7f1677b46940>"
      ]
     },
     "execution_count": 79,
     "metadata": {},
     "output_type": "execute_result"
    },
    {
     "data": {
      "image/png": "[encoded data removed]",
      "text/plain": [
       "<matplotlib.figure.Figure at 0x7f1673c6f0b8>"
      ]
     },
     "metadata": {},
     "output_type": "display_data"
    }
   ],
   "source": [
    "nodes_df['degree'].hist(bins=range(max(nodes_df['degree'])))"
   ]
  },
  {
   "cell_type": "code",
   "execution_count": 80,
   "metadata": {
    "collapsed": false
   },
   "outputs": [
    {
     "data": {
      "text/plain": [
       "34     104\n",
       "19     100\n",
       "76      97\n",
       "0       84\n",
       "20      76\n",
       "17      75\n",
       "21      72\n",
       "79      71\n",
       "24      63\n",
       "54      62\n",
       "68      61\n",
       "99      60\n",
       "23      56\n",
       "25      55\n",
       "35      55\n",
       "50      53\n",
       "9       52\n",
       "5       52\n",
       "49      51\n",
       "69      51\n",
       "128     48\n",
       "14      47\n",
       "153     47\n",
       "31      45\n",
       "41      44\n",
       "63      43\n",
       "16      40\n",
       "123     39\n",
       "48      39\n",
       "4       29\n",
       "      ... \n",
       "188      2\n",
       "392      2\n",
       "217      2\n",
       "551      2\n",
       "554      2\n",
       "489      2\n",
       "601      2\n",
       "137      2\n",
       "346      2\n",
       "464      2\n",
       "547      2\n",
       "86       2\n",
       "378      2\n",
       "609      2\n",
       "196      2\n",
       "617      2\n",
       "101      2\n",
       "503      2\n",
       "559      2\n",
       "190      2\n",
       "22       2\n",
       "394      2\n",
       "544      2\n",
       "603      2\n",
       "334      2\n",
       "353      2\n",
       "622      2\n",
       "634      2\n",
       "265      2\n",
       "585      2\n",
       "Name: community, Length: 657, dtype: int64"
      ]
     },
     "execution_count": 80,
     "metadata": {},
     "output_type": "execute_result"
    }
   ],
   "source": [
    "nodes_df['community'].value_counts()"
   ]
  },
  {
   "cell_type": "code",
   "execution_count": null,
   "metadata": {
    "collapsed": true
   },
   "outputs": [],
   "source": []
  }
 ],
 "metadata": {
  "anaconda-cloud": {},
  "kernelspec": {
   "display_name": "Python [conda env:caselaw]",
   "language": "python",
   "name": "conda-env-caselaw-py"
  },
  "language_info": {
   "codemirror_mode": {
    "name": "ipython",
    "version": 3
   },
   "file_extension": ".py",
   "mimetype": "text/x-python",
   "name": "python",
   "nbconvert_exporter": "python",
   "pygments_lexer": "ipython3",
   "version": "3.5.2"
  }
 },
 "nbformat": 4,
 "nbformat_minor": 0
}
