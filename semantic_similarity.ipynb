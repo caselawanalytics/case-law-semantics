{
 "cells": [
  {
   "cell_type": "code",
   "execution_count": 65,
   "metadata": {
    "collapsed": false
   },
   "outputs": [],
   "source": [
    "%matplotlib inline\n",
    "import gensim\n",
    "import caselawnet\n",
    "import json\n",
    "import nltk\n",
    "import numpy as np \n",
    "import pandas as pd\n",
    "import matplotlib.pyplot as plt"
   ]
  },
  {
   "cell_type": "code",
   "execution_count": 2,
   "metadata": {
    "collapsed": true
   },
   "outputs": [],
   "source": [
    "fn = '/media/sf_VBox_Shared/CaseLaw/graphs/json_sigma/wgaans_community.json'\n"
   ]
  },
  {
   "cell_type": "code",
   "execution_count": 3,
   "metadata": {
    "collapsed": true
   },
   "outputs": [],
   "source": [
    "with open(fn) as f:\n",
    "    network = json.load(f)\n"
   ]
  },
  {
   "cell_type": "code",
   "execution_count": 56,
   "metadata": {
    "collapsed": false
   },
   "outputs": [],
   "source": [
    "textfield = 'abstract'\n",
    "nodes_df = pd.DataFrame(network['nodes'])\n",
    "nodes_df.community = nodes_df.community.astype(int)\n",
    "nodes_df_filtered = nodes_df[nodes_df[textfield].str.len() > 1].copy()"
   ]
  },
  {
   "cell_type": "code",
   "execution_count": 57,
   "metadata": {
    "collapsed": false
   },
   "outputs": [
    {
     "data": {
      "text/plain": [
       "(77, 26)"
      ]
     },
     "execution_count": 57,
     "metadata": {},
     "output_type": "execute_result"
    }
   ],
   "source": [
    "nodes_df_filtered.shape"
   ]
  },
  {
   "cell_type": "code",
   "execution_count": 58,
   "metadata": {
    "collapsed": true
   },
   "outputs": [],
   "source": [
    "stemmer = nltk.stem.snowball.DutchStemmer(ignore_stopwords=True)\n",
    "def tokenize(text):\n",
    "    tokenized = nltk.word_tokenize(text)\n",
    "    return [stemmer.stem(w) for w in tokenized if w.isalnum()]"
   ]
  },
  {
   "cell_type": "code",
   "execution_count": 59,
   "metadata": {
    "collapsed": false
   },
   "outputs": [],
   "source": [
    "nodes_df_filtered['tokenized'] = [tokenize(t) for t in nodes_df_filtered[textfield]]"
   ]
  },
  {
   "cell_type": "code",
   "execution_count": 60,
   "metadata": {
    "collapsed": true
   },
   "outputs": [],
   "source": [
    "from sklearn.feature_extraction.text import TfidfVectorizer\n",
    "from stop_words import get_stop_words\n",
    "# Some options:\n",
    "ngram_range = (1, 1)\n",
    "max_df = 0.8\n",
    "min_df = 2\n",
    "stop_words = get_stop_words('dutch')\n",
    "vectorizer = TfidfVectorizer(ngram_range=ngram_range, \n",
    "                             max_df=max_df, \n",
    "                             min_df=min_df, \n",
    "                             tokenizer=tokenize, \n",
    "                             stop_words=stop_words)\n",
    "wordcounts = vectorizer.fit_transform((n[textfield] for i, n in nodes_df_filtered.iterrows()))"
   ]
  },
  {
   "cell_type": "code",
   "execution_count": 182,
   "metadata": {
    "collapsed": false
   },
   "outputs": [
    {
     "data": {
      "text/plain": [
       "<77x411 sparse matrix of type '<class 'numpy.float64'>'\n",
       "\twith 2038 stored elements in Compressed Sparse Row format>"
      ]
     },
     "execution_count": 182,
     "metadata": {},
     "output_type": "execute_result"
    }
   ],
   "source": [
    "wordcounts"
   ]
  },
  {
   "cell_type": "code",
   "execution_count": 62,
   "metadata": {
    "collapsed": false
   },
   "outputs": [],
   "source": [
    "# Calculate similarities\n",
    "from sklearn.metrics.pairwise import cosine_similarity\n",
    "\n",
    "similarities = cosine_similarity(wordcounts)"
   ]
  },
  {
   "cell_type": "code",
   "execution_count": 63,
   "metadata": {
    "collapsed": false
   },
   "outputs": [
    {
     "data": {
      "text/plain": [
       "(77, 77)"
      ]
     },
     "execution_count": 63,
     "metadata": {},
     "output_type": "execute_result"
    }
   ],
   "source": [
    "similarities.shape"
   ]
  },
  {
   "cell_type": "code",
   "execution_count": 64,
   "metadata": {
    "collapsed": false
   },
   "outputs": [],
   "source": [
    "ecli_communities = pd.MultiIndex.from_arrays((nodes_df_filtered['community'], nodes_df_filtered['ecli']))\n",
    "similarities_df = pd.DataFrame(similarities, index=ecli_communities, columns = ecli_communities)\n",
    "similarities_df = similarities_df.sort_index(axis=0).sort_index(axis=1)"
   ]
  },
  {
   "cell_type": "code",
   "execution_count": 103,
   "metadata": {
    "collapsed": true
   },
   "outputs": [],
   "source": [
    "def get_heatmap(df, figsize=(6, 6)):\n",
    "    fig = plt.figure(figsize=figsize)\n",
    "    pc = plt.pcolor(df, cmap='coolwarm', vmin=0, vmax=1)\n",
    "    pc.axes.set_xlim(0, df.shape[0])\n",
    "    pc.axes.set_ylim(0, df.shape[1])\n",
    "    pc.axes.invert_yaxis()\n",
    "    pc.axes.set_xticklabels([])\n",
    "    pc.axes.set_yticklabels([])\n",
    "    pc.axes.set_xticks([])\n",
    "    pc.axes.set_yticks([])"
   ]
  },
  {
   "cell_type": "code",
   "execution_count": 104,
   "metadata": {
    "collapsed": false
   },
   "outputs": [
    {
     "data": {
      "image/png": "[encoded data removed]",
      "text/plain": [
       "<matplotlib.figure.Figure at 0x7fc005855b00>"
      ]
     },
     "metadata": {},
     "output_type": "display_data"
    }
   ],
   "source": [
    "get_heatmap(similarities_df)"
   ]
  },
  {
   "cell_type": "code",
   "execution_count": 107,
   "metadata": {
    "collapsed": false
   },
   "outputs": [
    {
     "name": "stdout",
     "output_type": "stream",
     "text": [
      "0 15\n"
     ]
    },
    {
     "data": {
      "image/png": "[encoded data removed]",
      "text/plain": [
       "<matplotlib.figure.Figure at 0x7fc005a7b940>"
      ]
     },
     "metadata": {},
     "output_type": "display_data"
    },
    {
     "name": "stdout",
     "output_type": "stream",
     "text": [
      "1 2\n"
     ]
    },
    {
     "data": {
      "image/png": "[encoded data removed]",
      "text/plain": [
       "<matplotlib.figure.Figure at 0x7fbffd084828>"
      ]
     },
     "metadata": {},
     "output_type": "display_data"
    },
    {
     "name": "stdout",
     "output_type": "stream",
     "text": [
      "2 15\n"
     ]
    },
    {
     "data": {
      "image/png": "[encoded data removed]",
      "text/plain": [
       "<matplotlib.figure.Figure at 0x7fc0041f4e10>"
      ]
     },
     "metadata": {},
     "output_type": "display_data"
    },
    {
     "name": "stdout",
     "output_type": "stream",
     "text": [
      "4 6\n"
     ]
    },
    {
     "data": {
      "image/png": "[encoded data removed]",
      "text/plain": [
       "<matplotlib.figure.Figure at 0x7fbffd1f9a20>"
      ]
     },
     "metadata": {},
     "output_type": "display_data"
    },
    {
     "name": "stdout",
     "output_type": "stream",
     "text": [
      "5 2\n"
     ]
    },
    {
     "data": {
      "image/png": "[encoded data removed]",
      "text/plain": [
       "<matplotlib.figure.Figure at 0x7fc004113710>"
      ]
     },
     "metadata": {},
     "output_type": "display_data"
    },
    {
     "name": "stdout",
     "output_type": "stream",
     "text": [
      "6 3\n"
     ]
    },
    {
     "data": {
      "image/png": "[encoded data removed]",
      "text/plain": [
       "<matplotlib.figure.Figure at 0x7fbffd3d84e0>"
      ]
     },
     "metadata": {},
     "output_type": "display_data"
    },
    {
     "name": "stdout",
     "output_type": "stream",
     "text": [
      "7 1\n"
     ]
    },
    {
     "data": {
      "image/png": "[encoded data removed]",
      "text/plain": [
       "<matplotlib.figure.Figure at 0x7fbffd18c9b0>"
      ]
     },
     "metadata": {},
     "output_type": "display_data"
    },
    {
     "name": "stdout",
     "output_type": "stream",
     "text": [
      "8 5\n"
     ]
    },
    {
     "data": {
      "image/png": "[encoded data removed]",
      "text/plain": [
       "<matplotlib.figure.Figure at 0x7fbffd2ef860>"
      ]
     },
     "metadata": {},
     "output_type": "display_data"
    },
    {
     "name": "stdout",
     "output_type": "stream",
     "text": [
      "10 1\n"
     ]
    },
    {
     "data": {
      "image/png": "[encoded data removed]",
      "text/plain": [
       "<matplotlib.figure.Figure at 0x7fbffd364eb8>"
      ]
     },
     "metadata": {},
     "output_type": "display_data"
    },
    {
     "name": "stdout",
     "output_type": "stream",
     "text": [
      "11 2\n"
     ]
    },
    {
     "data": {
      "image/png": "[encoded data removed]",
      "text/plain": [
       "<matplotlib.figure.Figure at 0x7fbffd3642e8>"
      ]
     },
     "metadata": {},
     "output_type": "display_data"
    },
    {
     "name": "stdout",
     "output_type": "stream",
     "text": [
      "12 2\n"
     ]
    },
    {
     "data": {
      "image/png": "[encoded data removed]",
      "text/plain": [
       "<matplotlib.figure.Figure at 0x7fc0040961d0>"
      ]
     },
     "metadata": {},
     "output_type": "display_data"
    },
    {
     "name": "stdout",
     "output_type": "stream",
     "text": [
      "14 2\n"
     ]
    },
    {
     "data": {
      "image/png": "[encoded data removed]",
      "text/plain": [
       "<matplotlib.figure.Figure at 0x7fbffd3ad828>"
      ]
     },
     "metadata": {},
     "output_type": "display_data"
    },
    {
     "name": "stdout",
     "output_type": "stream",
     "text": [
      "15 2\n"
     ]
    },
    {
     "data": {
      "image/png": "[encoded data removed]",
      "text/plain": [
       "<matplotlib.figure.Figure at 0x7fc0041234a8>"
      ]
     },
     "metadata": {},
     "output_type": "display_data"
    },
    {
     "name": "stdout",
     "output_type": "stream",
     "text": [
      "16 2\n"
     ]
    },
    {
     "data": {
      "image/png": "[encoded data removed]",
      "text/plain": [
       "<matplotlib.figure.Figure at 0x7fc005a689b0>"
      ]
     },
     "metadata": {},
     "output_type": "display_data"
    },
    {
     "name": "stdout",
     "output_type": "stream",
     "text": [
      "17 2\n"
     ]
    },
    {
     "data": {
      "image/png": "[encoded data removed]",
      "text/plain": [
       "<matplotlib.figure.Figure at 0x7fc004425780>"
      ]
     },
     "metadata": {},
     "output_type": "display_data"
    },
    {
     "name": "stdout",
     "output_type": "stream",
     "text": [
      "18 3\n"
     ]
    },
    {
     "data": {
      "image/png": "[encoded data removed]",
      "text/plain": [
       "<matplotlib.figure.Figure at 0x7fbffd3fe748>"
      ]
     },
     "metadata": {},
     "output_type": "display_data"
    },
    {
     "name": "stdout",
     "output_type": "stream",
     "text": [
      "19 1\n"
     ]
    },
    {
     "data": {
      "image/png": "[encoded data removed]",
      "text/plain": [
       "<matplotlib.figure.Figure at 0x7fc004754a90>"
      ]
     },
     "metadata": {},
     "output_type": "display_data"
    },
    {
     "name": "stdout",
     "output_type": "stream",
     "text": [
      "20 2\n"
     ]
    },
    {
     "data": {
      "image/png": "[encoded data removed]",
      "text/plain": [
       "<matplotlib.figure.Figure at 0x7fc0041f4c50>"
      ]
     },
     "metadata": {},
     "output_type": "display_data"
    },
    {
     "name": "stdout",
     "output_type": "stream",
     "text": [
      "21 1\n"
     ]
    },
    {
     "data": {
      "image/png": "[encoded data removed]",
      "text/plain": [
       "<matplotlib.figure.Figure at 0x7fc0041f8a90>"
      ]
     },
     "metadata": {},
     "output_type": "display_data"
    },
    {
     "name": "stdout",
     "output_type": "stream",
     "text": [
      "22 2\n"
     ]
    },
    {
     "data": {
      "image/png": "[encoded data removed]",
      "text/plain": [
       "<matplotlib.figure.Figure at 0x7fbffd0ce4a8>"
      ]
     },
     "metadata": {},
     "output_type": "display_data"
    },
    {
     "name": "stdout",
     "output_type": "stream",
     "text": [
      "23 2\n"
     ]
    },
    {
     "data": {
      "image/png": "[encoded data removed]",
      "text/plain": [
       "<matplotlib.figure.Figure at 0x7fbffd2fe978>"
      ]
     },
     "metadata": {},
     "output_type": "display_data"
    },
    {
     "name": "stdout",
     "output_type": "stream",
     "text": [
      "26 1\n"
     ]
    },
    {
     "data": {
      "image/png": "[encoded data removed]",
      "text/plain": [
       "<matplotlib.figure.Figure at 0x7fbffd28c518>"
      ]
     },
     "metadata": {},
     "output_type": "display_data"
    },
    {
     "name": "stdout",
     "output_type": "stream",
     "text": [
      "27 2\n"
     ]
    },
    {
     "data": {
      "image/png": "[encoded data removed]",
      "text/plain": [
       "<matplotlib.figure.Figure at 0x7fbffd2fe048>"
      ]
     },
     "metadata": {},
     "output_type": "display_data"
    },
    {
     "name": "stdout",
     "output_type": "stream",
     "text": [
      "28 1\n"
     ]
    },
    {
     "data": {
      "image/png": "[encoded data removed]",
      "text/plain": [
       "<matplotlib.figure.Figure at 0x7fc005a65668>"
      ]
     },
     "metadata": {},
     "output_type": "display_data"
    }
   ],
   "source": [
    "for c in similarities_df.index.levels[0]:\n",
    "    local_sim = similarities_df.loc[[c], [c]]\n",
    "    print(c, len(local_sim))\n",
    "    get_heatmap(local_sim, figsize=(0.2*local_sim.shape[0], 0.2*local_sim.shape[1]))\n",
    "    plt.show()"
   ]
  },
  {
   "cell_type": "code",
   "execution_count": 176,
   "metadata": {
    "collapsed": false
   },
   "outputs": [
    {
     "data": {
      "text/html": [
       "<div>\n",
       "<style>\n",
       "    .dataframe thead tr:only-child th {\n",
       "        text-align: right;\n",
       "    }\n",
       "\n",
       "    .dataframe thead th {\n",
       "        text-align: left;\n",
       "    }\n",
       "\n",
       "    .dataframe tbody tr th {\n",
       "        vertical-align: top;\n",
       "    }\n",
       "</style>\n",
       "<table border=\"1\" class=\"dataframe\">\n",
       "  <thead>\n",
       "    <tr>\n",
       "      <th></th>\n",
       "      <th>community</th>\n",
       "      <th colspan=\"10\" halign=\"left\">0</th>\n",
       "      <th>...</th>\n",
       "      <th>20</th>\n",
       "      <th>21</th>\n",
       "      <th colspan=\"2\" halign=\"left\">22</th>\n",
       "      <th colspan=\"2\" halign=\"left\">23</th>\n",
       "      <th>26</th>\n",
       "      <th colspan=\"2\" halign=\"left\">27</th>\n",
       "      <th>28</th>\n",
       "    </tr>\n",
       "    <tr>\n",
       "      <th></th>\n",
       "      <th>ecli</th>\n",
       "      <th>ECLI:NL:HR:2003:AN8478</th>\n",
       "      <th>ECLI:NL:HR:2004:AO4224</th>\n",
       "      <th>ECLI:NL:HR:2005:AU3313</th>\n",
       "      <th>ECLI:NL:HR:2006:AU6092</th>\n",
       "      <th>ECLI:NL:HR:2006:AW6166</th>\n",
       "      <th>ECLI:NL:HR:2007:AZ6717</th>\n",
       "      <th>ECLI:NL:HR:2007:BB5172</th>\n",
       "      <th>ECLI:NL:HR:2009:BF8875</th>\n",
       "      <th>ECLI:NL:HR:2010:BK4476</th>\n",
       "      <th>ECLI:NL:HR:2010:BO1799</th>\n",
       "      <th>...</th>\n",
       "      <th>ECLI:NL:HR:2013:BZ1780</th>\n",
       "      <th>ECLI:NL:HR:2009:BJ7832</th>\n",
       "      <th>ECLI:NL:HR:2006:AU9717</th>\n",
       "      <th>ECLI:NL:HR:2007:BA9705</th>\n",
       "      <th>ECLI:NL:HR:2012:BX0598</th>\n",
       "      <th>ECLI:NL:HR:2014:943</th>\n",
       "      <th>ECLI:NL:HR:2007:AZ7863</th>\n",
       "      <th>ECLI:NL:HR:2010:BN3831</th>\n",
       "      <th>ECLI:NL:HR:2015:644</th>\n",
       "      <th>ECLI:NL:HR:2008:BC6699</th>\n",
       "    </tr>\n",
       "    <tr>\n",
       "      <th>community</th>\n",
       "      <th>ecli</th>\n",
       "      <th></th>\n",
       "      <th></th>\n",
       "      <th></th>\n",
       "      <th></th>\n",
       "      <th></th>\n",
       "      <th></th>\n",
       "      <th></th>\n",
       "      <th></th>\n",
       "      <th></th>\n",
       "      <th></th>\n",
       "      <th></th>\n",
       "      <th></th>\n",
       "      <th></th>\n",
       "      <th></th>\n",
       "      <th></th>\n",
       "      <th></th>\n",
       "      <th></th>\n",
       "      <th></th>\n",
       "      <th></th>\n",
       "      <th></th>\n",
       "      <th></th>\n",
       "    </tr>\n",
       "  </thead>\n",
       "  <tbody>\n",
       "    <tr>\n",
       "      <th rowspan=\"5\" valign=\"top\">0</th>\n",
       "      <th>ECLI:NL:HR:2003:AN8478</th>\n",
       "      <td>1.00000</td>\n",
       "      <td>0.680610</td>\n",
       "      <td>0.000000</td>\n",
       "      <td>0.000000</td>\n",
       "      <td>0.013770</td>\n",
       "      <td>0.015749</td>\n",
       "      <td>0.000000</td>\n",
       "      <td>0.000000</td>\n",
       "      <td>0.050769</td>\n",
       "      <td>0.006760</td>\n",
       "      <td>...</td>\n",
       "      <td>0.000000</td>\n",
       "      <td>0.000000</td>\n",
       "      <td>0.024535</td>\n",
       "      <td>0.000000</td>\n",
       "      <td>0.000000</td>\n",
       "      <td>0.023374</td>\n",
       "      <td>0.000000</td>\n",
       "      <td>0.016076</td>\n",
       "      <td>0.000000</td>\n",
       "      <td>0.000000</td>\n",
       "    </tr>\n",
       "    <tr>\n",
       "      <th>ECLI:NL:HR:2004:AO4224</th>\n",
       "      <td>0.68061</td>\n",
       "      <td>1.000000</td>\n",
       "      <td>0.000000</td>\n",
       "      <td>0.034705</td>\n",
       "      <td>0.013150</td>\n",
       "      <td>0.015039</td>\n",
       "      <td>0.000000</td>\n",
       "      <td>0.000000</td>\n",
       "      <td>0.014067</td>\n",
       "      <td>0.019424</td>\n",
       "      <td>...</td>\n",
       "      <td>0.000000</td>\n",
       "      <td>0.000000</td>\n",
       "      <td>0.096127</td>\n",
       "      <td>0.000000</td>\n",
       "      <td>0.000000</td>\n",
       "      <td>0.052553</td>\n",
       "      <td>0.000000</td>\n",
       "      <td>0.015351</td>\n",
       "      <td>0.000000</td>\n",
       "      <td>0.000000</td>\n",
       "    </tr>\n",
       "    <tr>\n",
       "      <th>ECLI:NL:HR:2005:AU3313</th>\n",
       "      <td>0.00000</td>\n",
       "      <td>0.000000</td>\n",
       "      <td>1.000000</td>\n",
       "      <td>0.121355</td>\n",
       "      <td>0.169040</td>\n",
       "      <td>0.040801</td>\n",
       "      <td>0.000000</td>\n",
       "      <td>0.023647</td>\n",
       "      <td>0.044416</td>\n",
       "      <td>0.098513</td>\n",
       "      <td>...</td>\n",
       "      <td>0.072725</td>\n",
       "      <td>0.138267</td>\n",
       "      <td>0.019349</td>\n",
       "      <td>0.023331</td>\n",
       "      <td>0.027055</td>\n",
       "      <td>0.019967</td>\n",
       "      <td>0.101227</td>\n",
       "      <td>0.000000</td>\n",
       "      <td>0.060414</td>\n",
       "      <td>0.021852</td>\n",
       "    </tr>\n",
       "    <tr>\n",
       "      <th>ECLI:NL:HR:2006:AU6092</th>\n",
       "      <td>0.00000</td>\n",
       "      <td>0.034705</td>\n",
       "      <td>0.121355</td>\n",
       "      <td>1.000000</td>\n",
       "      <td>0.238191</td>\n",
       "      <td>0.080190</td>\n",
       "      <td>0.075405</td>\n",
       "      <td>0.131165</td>\n",
       "      <td>0.070491</td>\n",
       "      <td>0.128451</td>\n",
       "      <td>...</td>\n",
       "      <td>0.053063</td>\n",
       "      <td>0.103176</td>\n",
       "      <td>0.072506</td>\n",
       "      <td>0.059540</td>\n",
       "      <td>0.058167</td>\n",
       "      <td>0.049670</td>\n",
       "      <td>0.043120</td>\n",
       "      <td>0.000000</td>\n",
       "      <td>0.055386</td>\n",
       "      <td>0.036894</td>\n",
       "    </tr>\n",
       "    <tr>\n",
       "      <th>ECLI:NL:HR:2006:AW6166</th>\n",
       "      <td>0.01377</td>\n",
       "      <td>0.013150</td>\n",
       "      <td>0.169040</td>\n",
       "      <td>0.238191</td>\n",
       "      <td>1.000000</td>\n",
       "      <td>0.352591</td>\n",
       "      <td>0.103912</td>\n",
       "      <td>0.121518</td>\n",
       "      <td>0.183483</td>\n",
       "      <td>0.108809</td>\n",
       "      <td>...</td>\n",
       "      <td>0.103439</td>\n",
       "      <td>0.100346</td>\n",
       "      <td>0.067066</td>\n",
       "      <td>0.118657</td>\n",
       "      <td>0.067144</td>\n",
       "      <td>0.102032</td>\n",
       "      <td>0.093442</td>\n",
       "      <td>0.000000</td>\n",
       "      <td>0.085929</td>\n",
       "      <td>0.131431</td>\n",
       "    </tr>\n",
       "  </tbody>\n",
       "</table>\n",
       "<p>5 rows × 77 columns</p>\n",
       "</div>"
      ],
      "text/plain": [
       "community                                            0   \\\n",
       "ecli                             ECLI:NL:HR:2003:AN8478   \n",
       "community ecli                                            \n",
       "0         ECLI:NL:HR:2003:AN8478                1.00000   \n",
       "          ECLI:NL:HR:2004:AO4224                0.68061   \n",
       "          ECLI:NL:HR:2005:AU3313                0.00000   \n",
       "          ECLI:NL:HR:2006:AU6092                0.00000   \n",
       "          ECLI:NL:HR:2006:AW6166                0.01377   \n",
       "\n",
       "community                                                \\\n",
       "ecli                             ECLI:NL:HR:2004:AO4224   \n",
       "community ecli                                            \n",
       "0         ECLI:NL:HR:2003:AN8478               0.680610   \n",
       "          ECLI:NL:HR:2004:AO4224               1.000000   \n",
       "          ECLI:NL:HR:2005:AU3313               0.000000   \n",
       "          ECLI:NL:HR:2006:AU6092               0.034705   \n",
       "          ECLI:NL:HR:2006:AW6166               0.013150   \n",
       "\n",
       "community                                                \\\n",
       "ecli                             ECLI:NL:HR:2005:AU3313   \n",
       "community ecli                                            \n",
       "0         ECLI:NL:HR:2003:AN8478               0.000000   \n",
       "          ECLI:NL:HR:2004:AO4224               0.000000   \n",
       "          ECLI:NL:HR:2005:AU3313               1.000000   \n",
       "          ECLI:NL:HR:2006:AU6092               0.121355   \n",
       "          ECLI:NL:HR:2006:AW6166               0.169040   \n",
       "\n",
       "community                                                \\\n",
       "ecli                             ECLI:NL:HR:2006:AU6092   \n",
       "community ecli                                            \n",
       "0         ECLI:NL:HR:2003:AN8478               0.000000   \n",
       "          ECLI:NL:HR:2004:AO4224               0.034705   \n",
       "          ECLI:NL:HR:2005:AU3313               0.121355   \n",
       "          ECLI:NL:HR:2006:AU6092               1.000000   \n",
       "          ECLI:NL:HR:2006:AW6166               0.238191   \n",
       "\n",
       "community                                                \\\n",
       "ecli                             ECLI:NL:HR:2006:AW6166   \n",
       "community ecli                                            \n",
       "0         ECLI:NL:HR:2003:AN8478               0.013770   \n",
       "          ECLI:NL:HR:2004:AO4224               0.013150   \n",
       "          ECLI:NL:HR:2005:AU3313               0.169040   \n",
       "          ECLI:NL:HR:2006:AU6092               0.238191   \n",
       "          ECLI:NL:HR:2006:AW6166               1.000000   \n",
       "\n",
       "community                                                \\\n",
       "ecli                             ECLI:NL:HR:2007:AZ6717   \n",
       "community ecli                                            \n",
       "0         ECLI:NL:HR:2003:AN8478               0.015749   \n",
       "          ECLI:NL:HR:2004:AO4224               0.015039   \n",
       "          ECLI:NL:HR:2005:AU3313               0.040801   \n",
       "          ECLI:NL:HR:2006:AU6092               0.080190   \n",
       "          ECLI:NL:HR:2006:AW6166               0.352591   \n",
       "\n",
       "community                                                \\\n",
       "ecli                             ECLI:NL:HR:2007:BB5172   \n",
       "community ecli                                            \n",
       "0         ECLI:NL:HR:2003:AN8478               0.000000   \n",
       "          ECLI:NL:HR:2004:AO4224               0.000000   \n",
       "          ECLI:NL:HR:2005:AU3313               0.000000   \n",
       "          ECLI:NL:HR:2006:AU6092               0.075405   \n",
       "          ECLI:NL:HR:2006:AW6166               0.103912   \n",
       "\n",
       "community                                                \\\n",
       "ecli                             ECLI:NL:HR:2009:BF8875   \n",
       "community ecli                                            \n",
       "0         ECLI:NL:HR:2003:AN8478               0.000000   \n",
       "          ECLI:NL:HR:2004:AO4224               0.000000   \n",
       "          ECLI:NL:HR:2005:AU3313               0.023647   \n",
       "          ECLI:NL:HR:2006:AU6092               0.131165   \n",
       "          ECLI:NL:HR:2006:AW6166               0.121518   \n",
       "\n",
       "community                                                \\\n",
       "ecli                             ECLI:NL:HR:2010:BK4476   \n",
       "community ecli                                            \n",
       "0         ECLI:NL:HR:2003:AN8478               0.050769   \n",
       "          ECLI:NL:HR:2004:AO4224               0.014067   \n",
       "          ECLI:NL:HR:2005:AU3313               0.044416   \n",
       "          ECLI:NL:HR:2006:AU6092               0.070491   \n",
       "          ECLI:NL:HR:2006:AW6166               0.183483   \n",
       "\n",
       "community                                                \\\n",
       "ecli                             ECLI:NL:HR:2010:BO1799   \n",
       "community ecli                                            \n",
       "0         ECLI:NL:HR:2003:AN8478               0.006760   \n",
       "          ECLI:NL:HR:2004:AO4224               0.019424   \n",
       "          ECLI:NL:HR:2005:AU3313               0.098513   \n",
       "          ECLI:NL:HR:2006:AU6092               0.128451   \n",
       "          ECLI:NL:HR:2006:AW6166               0.108809   \n",
       "\n",
       "community                                 ...            \\\n",
       "ecli                                      ...             \n",
       "community ecli                            ...             \n",
       "0         ECLI:NL:HR:2003:AN8478          ...             \n",
       "          ECLI:NL:HR:2004:AO4224          ...             \n",
       "          ECLI:NL:HR:2005:AU3313          ...             \n",
       "          ECLI:NL:HR:2006:AU6092          ...             \n",
       "          ECLI:NL:HR:2006:AW6166          ...             \n",
       "\n",
       "community                                            20  \\\n",
       "ecli                             ECLI:NL:HR:2013:BZ1780   \n",
       "community ecli                                            \n",
       "0         ECLI:NL:HR:2003:AN8478               0.000000   \n",
       "          ECLI:NL:HR:2004:AO4224               0.000000   \n",
       "          ECLI:NL:HR:2005:AU3313               0.072725   \n",
       "          ECLI:NL:HR:2006:AU6092               0.053063   \n",
       "          ECLI:NL:HR:2006:AW6166               0.103439   \n",
       "\n",
       "community                                            21  \\\n",
       "ecli                             ECLI:NL:HR:2009:BJ7832   \n",
       "community ecli                                            \n",
       "0         ECLI:NL:HR:2003:AN8478               0.000000   \n",
       "          ECLI:NL:HR:2004:AO4224               0.000000   \n",
       "          ECLI:NL:HR:2005:AU3313               0.138267   \n",
       "          ECLI:NL:HR:2006:AU6092               0.103176   \n",
       "          ECLI:NL:HR:2006:AW6166               0.100346   \n",
       "\n",
       "community                                            22  \\\n",
       "ecli                             ECLI:NL:HR:2006:AU9717   \n",
       "community ecli                                            \n",
       "0         ECLI:NL:HR:2003:AN8478               0.024535   \n",
       "          ECLI:NL:HR:2004:AO4224               0.096127   \n",
       "          ECLI:NL:HR:2005:AU3313               0.019349   \n",
       "          ECLI:NL:HR:2006:AU6092               0.072506   \n",
       "          ECLI:NL:HR:2006:AW6166               0.067066   \n",
       "\n",
       "community                                                \\\n",
       "ecli                             ECLI:NL:HR:2007:BA9705   \n",
       "community ecli                                            \n",
       "0         ECLI:NL:HR:2003:AN8478               0.000000   \n",
       "          ECLI:NL:HR:2004:AO4224               0.000000   \n",
       "          ECLI:NL:HR:2005:AU3313               0.023331   \n",
       "          ECLI:NL:HR:2006:AU6092               0.059540   \n",
       "          ECLI:NL:HR:2006:AW6166               0.118657   \n",
       "\n",
       "community                                            23                      \\\n",
       "ecli                             ECLI:NL:HR:2012:BX0598 ECLI:NL:HR:2014:943   \n",
       "community ecli                                                                \n",
       "0         ECLI:NL:HR:2003:AN8478               0.000000            0.023374   \n",
       "          ECLI:NL:HR:2004:AO4224               0.000000            0.052553   \n",
       "          ECLI:NL:HR:2005:AU3313               0.027055            0.019967   \n",
       "          ECLI:NL:HR:2006:AU6092               0.058167            0.049670   \n",
       "          ECLI:NL:HR:2006:AW6166               0.067144            0.102032   \n",
       "\n",
       "community                                            26  \\\n",
       "ecli                             ECLI:NL:HR:2007:AZ7863   \n",
       "community ecli                                            \n",
       "0         ECLI:NL:HR:2003:AN8478               0.000000   \n",
       "          ECLI:NL:HR:2004:AO4224               0.000000   \n",
       "          ECLI:NL:HR:2005:AU3313               0.101227   \n",
       "          ECLI:NL:HR:2006:AU6092               0.043120   \n",
       "          ECLI:NL:HR:2006:AW6166               0.093442   \n",
       "\n",
       "community                                            27                      \\\n",
       "ecli                             ECLI:NL:HR:2010:BN3831 ECLI:NL:HR:2015:644   \n",
       "community ecli                                                                \n",
       "0         ECLI:NL:HR:2003:AN8478               0.016076            0.000000   \n",
       "          ECLI:NL:HR:2004:AO4224               0.015351            0.000000   \n",
       "          ECLI:NL:HR:2005:AU3313               0.000000            0.060414   \n",
       "          ECLI:NL:HR:2006:AU6092               0.000000            0.055386   \n",
       "          ECLI:NL:HR:2006:AW6166               0.000000            0.085929   \n",
       "\n",
       "community                                            28  \n",
       "ecli                             ECLI:NL:HR:2008:BC6699  \n",
       "community ecli                                           \n",
       "0         ECLI:NL:HR:2003:AN8478               0.000000  \n",
       "          ECLI:NL:HR:2004:AO4224               0.000000  \n",
       "          ECLI:NL:HR:2005:AU3313               0.021852  \n",
       "          ECLI:NL:HR:2006:AU6092               0.036894  \n",
       "          ECLI:NL:HR:2006:AW6166               0.131431  \n",
       "\n",
       "[5 rows x 77 columns]"
      ]
     },
     "execution_count": 176,
     "metadata": {},
     "output_type": "execute_result"
    }
   ],
   "source": [
    "similarities_df.head()"
   ]
  },
  {
   "cell_type": "code",
   "execution_count": 180,
   "metadata": {
    "collapsed": false
   },
   "outputs": [
    {
     "data": {
      "text/html": [
       "<div>\n",
       "<style>\n",
       "    .dataframe thead tr:only-child th {\n",
       "        text-align: right;\n",
       "    }\n",
       "\n",
       "    .dataframe thead th {\n",
       "        text-align: left;\n",
       "    }\n",
       "\n",
       "    .dataframe tbody tr th {\n",
       "        vertical-align: top;\n",
       "    }\n",
       "</style>\n",
       "<table border=\"1\" class=\"dataframe\">\n",
       "  <thead>\n",
       "    <tr>\n",
       "      <th></th>\n",
       "      <th>community</th>\n",
       "      <th>10</th>\n",
       "    </tr>\n",
       "    <tr>\n",
       "      <th></th>\n",
       "      <th>ecli</th>\n",
       "      <th>ECLI:NL:HR:2015:3019</th>\n",
       "    </tr>\n",
       "    <tr>\n",
       "      <th>community</th>\n",
       "      <th>ecli</th>\n",
       "      <th></th>\n",
       "    </tr>\n",
       "  </thead>\n",
       "  <tbody>\n",
       "    <tr>\n",
       "      <th>10</th>\n",
       "      <th>ECLI:NL:HR:2015:3019</th>\n",
       "      <td>1.0</td>\n",
       "    </tr>\n",
       "  </tbody>\n",
       "</table>\n",
       "</div>"
      ],
      "text/plain": [
       "community                                        10\n",
       "ecli                           ECLI:NL:HR:2015:3019\n",
       "community ecli                                     \n",
       "10        ECLI:NL:HR:2015:3019                  1.0"
      ]
     },
     "execution_count": 180,
     "metadata": {},
     "output_type": "execute_result"
    }
   ],
   "source": [
    "similarities_df.loc[(slice(None), ecli1), (slice(None), ecli2)]"
   ]
  },
  {
   "cell_type": "code",
   "execution_count": 189,
   "metadata": {
    "collapsed": false
   },
   "outputs": [
    {
     "data": {
      "text/plain": [
       "{'id': 'http://deeplink.rechtspraak.nl/uitspraak?id=ECLI:NL:HR:2012:BV1295_http://deeplink.rechtspraak.nl/uitspraak?id=ECLI:NL:HR:2011:BR5215',\n",
       " 'source': 'http://deeplink.rechtspraak.nl/uitspraak?id=ECLI:NL:HR:2012:BV1295',\n",
       " 'target': 'http://deeplink.rechtspraak.nl/uitspraak?id=ECLI:NL:HR:2011:BR5215'}"
      ]
     },
     "execution_count": 189,
     "metadata": {},
     "output_type": "execute_result"
    }
   ],
   "source": [
    "network['edges'][0]"
   ]
  },
  {
   "cell_type": "code",
   "execution_count": 191,
   "metadata": {
    "collapsed": true
   },
   "outputs": [],
   "source": [
    "def get_ecli_from_id(idstr):\n",
    "    return idstr.split('=')[-1]"
   ]
  },
  {
   "cell_type": "code",
   "execution_count": 198,
   "metadata": {
    "collapsed": false
   },
   "outputs": [],
   "source": [
    "ecli_values = nodes_df_filtered['ecli'].values\n",
    "\n",
    "similarites_edges = []\n",
    "for l in network['edges']:\n",
    "    ecli1 = get_ecli_from_id(l['source'])\n",
    "    ecli2 = get_ecli_from_id(l['target'])\n",
    "    \n",
    "    if ecli1 in ecli_values and ecli2 in ecli_values:\n",
    "        sim = similarities_df.loc[(slice(None), ecli1), (slice(None), ecli2)].values[0][0]\n",
    "        similarites_edges.append(sim)\n",
    "similarites_edges = np.array(similarites_edges)"
   ]
  },
  {
   "cell_type": "code",
   "execution_count": 209,
   "metadata": {
    "collapsed": false
   },
   "outputs": [],
   "source": [
    "similarities_nondiag = similarities[np.triu_indices(similarities.shape[0], 1)]"
   ]
  },
  {
   "cell_type": "code",
   "execution_count": 211,
   "metadata": {
    "collapsed": false
   },
   "outputs": [
    {
     "name": "stdout",
     "output_type": "stream",
     "text": [
      "All: 0.08±0.13\n",
      "Linked: 0.18±0.16\n"
     ]
    }
   ],
   "source": [
    "print('All: {:.2f}±{:.2f}'.format(np.mean(similarities_nondiag), np.std(similarities_nondiag)))\n",
    "print('Linked: {:.2f}±{:.2f}'.format(np.mean(similarites_edges), np.std(similarites_edges)))"
   ]
  },
  {
   "cell_type": "code",
   "execution_count": 212,
   "metadata": {
    "collapsed": false
   },
   "outputs": [
    {
     "name": "stdout",
     "output_type": "stream",
     "text": [
      "Ttest_indResult(statistic=-4.8215847456419016, pvalue=9.9803716519323867e-06)\n",
      "p-value: 0.000\n"
     ]
    }
   ],
   "source": [
    "import scipy\n",
    "res = scipy.stats.ttest_ind(similarities_nondiag, similarites_edges, equal_var=False)\n",
    "print(res)\n",
    "print('p-value: {:.3f}'.format(res.pvalue / 2))"
   ]
  },
  {
   "cell_type": "markdown",
   "metadata": {},
   "source": [
    "# TSNE"
   ]
  },
  {
   "cell_type": "code",
   "execution_count": 109,
   "metadata": {
    "collapsed": false
   },
   "outputs": [],
   "source": [
    "from sklearn.manifold import TSNE"
   ]
  },
  {
   "cell_type": "code",
   "execution_count": 164,
   "metadata": {
    "collapsed": true
   },
   "outputs": [],
   "source": [
    "n_communities = nodes_df_filtered['community'].max()\n",
    "cmap = plt.cm.get_cmap('Set3', n_communities)"
   ]
  },
  {
   "cell_type": "code",
   "execution_count": 165,
   "metadata": {
    "collapsed": false
   },
   "outputs": [
    {
     "data": {
      "text/plain": [
       "28"
      ]
     },
     "execution_count": 165,
     "metadata": {},
     "output_type": "execute_result"
    }
   ],
   "source": [
    "n_communities"
   ]
  },
  {
   "cell_type": "code",
   "execution_count": 168,
   "metadata": {
    "collapsed": false
   },
   "outputs": [
    {
     "name": "stdout",
     "output_type": "stream",
     "text": [
      "learning rate:  100\n"
     ]
    },
    {
     "data": {
      "image/png": "[encoded data removed]",
      "text/plain": [
       "<matplotlib.figure.Figure at 0x7fc005a02438>"
      ]
     },
     "metadata": {},
     "output_type": "display_data"
    }
   ],
   "source": [
    "for learning_rate in [100]:\n",
    "    print('learning rate: ', learning_rate)\n",
    "    for i in range(1):\n",
    "        tsne_model = TSNE(n_components=2, perplexity=20, learning_rate=learning_rate, metric='cosine')\n",
    "        dat_tsne = tsne_model.fit_transform(wordcounts.toarray())\n",
    "        fig, ax = plt.subplots()\n",
    "        color = nodes_df_filtered['community']\n",
    "        sc = ax.scatter(dat_tsne[:,0], dat_tsne[:,1], c=color, cmap=cmap, label=color, lw=0, s=30)\n",
    "        cb = plt.colorbar(sc, ticks=range(0, n_communities))\n",
    "        \n",
    "        plt.show()"
   ]
  },
  {
   "cell_type": "code",
   "execution_count": null,
   "metadata": {
    "collapsed": true
   },
   "outputs": [],
   "source": []
  }
 ],
 "metadata": {
  "anaconda-cloud": {},
  "kernelspec": {
   "display_name": "Python [conda env:caselaw]",
   "language": "python",
   "name": "conda-env-caselaw-py"
  },
  "language_info": {
   "codemirror_mode": {
    "name": "ipython",
    "version": 3
   },
   "file_extension": ".py",
   "mimetype": "text/x-python",
   "name": "python",
   "nbconvert_exporter": "python",
   "pygments_lexer": "ipython3",
   "version": "3.5.2"
  }
 },
 "nbformat": 4,
 "nbformat_minor": 0
}
